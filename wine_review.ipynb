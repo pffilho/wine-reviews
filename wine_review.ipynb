{
 "cells": [
  {
   "cell_type": "markdown",
   "metadata": {},
   "source": [
    "### ao3 - TESTE INGESTÃO DE DADOS DE AVALIAÇÃO DE VINHOS (KAGGLE)\n",
    "### Candidato - Paulo Franco Filho\n"
   ]
  },
  {
   "cell_type": "markdown",
   "metadata": {},
   "source": [
    "### Fonte dos dados: https://www.kaggle.com/zynicide/wine-reviews\n",
    "### Dicionário\n",
    "country - País de origem<br>\n",
    "description - Características do vinho<br>\n",
    "designation - O Vinhedo dentro da vinicola de onde são provenientes as uvas que fazem o vinho<br>\n",
    "points - O número de pontos que o WineEnthusiast classificou o vinho em uma escala de 1 a 100 (embora eles digam que só postam avaliações para vinhos com pontuação> = 80)<br>\n",
    "price - O custo de uma garrafa de vinho<br>\n",
    "province - Origem do vinho - Provincia ou Estado<br>\n",
    "region_1 - A área de cultivo de vinho em uma província ou estado<br>\n",
    "region_2 - Regiões mais específicas especificadas dentro de uma área de cultivo de vinho (ou seja, Rutherford dentro do Vale do Napa), mas este valor pode às vezes estar em branco<br>\n",
    "taster_name - Nome do degustador<br>\n",
    "taster_twitter_handle - Twitter do degustador<br>\n",
    "title  - Nome do vinho<br>\n",
    "variety - Uva<br>\n",
    "winery - Vinicola"
   ]
  },
  {
   "cell_type": "markdown",
   "metadata": {},
   "source": [
    "### Bibliotecas"
   ]
  },
  {
   "cell_type": "code",
   "execution_count": 42,
   "metadata": {},
   "outputs": [
    {
     "name": "stdout",
     "output_type": "stream",
     "text": [
      "Requirement already satisfied: pyarrow in c:\\users\\paulo\\anaconda3\\lib\\site-packages (2.0.0)\n",
      "Requirement already satisfied: numpy>=1.14 in c:\\users\\paulo\\anaconda3\\lib\\site-packages (from pyarrow) (1.19.1)\n"
     ]
    }
   ],
   "source": [
    "! pip install pyarrow"
   ]
  },
  {
   "cell_type": "code",
   "execution_count": 271,
   "metadata": {},
   "outputs": [],
   "source": [
    "#Utilizado pyarrow para trabalhar com arquivos parquet\n",
    "\n",
    "import pandas as pd\n",
    "import pyarrow as pa\n",
    "import pyarrow.parquet as pq\n",
    "import pyarrow.dataset as ds\n",
    "import seaborn as sns\n",
    "import matplotlib.pyplot as plt"
   ]
  },
  {
   "cell_type": "markdown",
   "metadata": {},
   "source": [
    "# Carrega Dataset origem\n",
    "Primeiro contato com os dados"
   ]
  },
  {
   "cell_type": "code",
   "execution_count": 44,
   "metadata": {},
   "outputs": [
    {
     "data": {
      "text/plain": [
       "((129971, 14),\n",
       " Index(['Unnamed: 0', 'country', 'description', 'designation', 'points',\n",
       "        'price', 'province', 'region_1', 'region_2', 'taster_name',\n",
       "        'taster_twitter_handle', 'title', 'variety', 'winery'],\n",
       "       dtype='object'))"
      ]
     },
     "execution_count": 44,
     "metadata": {},
     "output_type": "execute_result"
    }
   ],
   "source": [
    "df = pd.read_csv(\"winemag-data-130k-v2.csv\",  encoding='UTF-8')\n",
    "df.shape, df.columns"
   ]
  },
  {
   "cell_type": "code",
   "execution_count": 45,
   "metadata": {},
   "outputs": [
    {
     "data": {
      "text/html": [
       "<div>\n",
       "<style scoped>\n",
       "    .dataframe tbody tr th:only-of-type {\n",
       "        vertical-align: middle;\n",
       "    }\n",
       "\n",
       "    .dataframe tbody tr th {\n",
       "        vertical-align: top;\n",
       "    }\n",
       "\n",
       "    .dataframe thead th {\n",
       "        text-align: right;\n",
       "    }\n",
       "</style>\n",
       "<table border=\"1\" class=\"dataframe\">\n",
       "  <thead>\n",
       "    <tr style=\"text-align: right;\">\n",
       "      <th></th>\n",
       "      <th>country</th>\n",
       "      <th>description</th>\n",
       "      <th>designation</th>\n",
       "      <th>points</th>\n",
       "      <th>price</th>\n",
       "      <th>province</th>\n",
       "      <th>region_1</th>\n",
       "      <th>region_2</th>\n",
       "      <th>taster_name</th>\n",
       "      <th>taster_twitter_handle</th>\n",
       "      <th>title</th>\n",
       "      <th>variety</th>\n",
       "      <th>winery</th>\n",
       "    </tr>\n",
       "  </thead>\n",
       "  <tbody>\n",
       "    <tr>\n",
       "      <th>0</th>\n",
       "      <td>Italy</td>\n",
       "      <td>Aromas include tropical fruit, broom, brimston...</td>\n",
       "      <td>Vulkà Bianco</td>\n",
       "      <td>87</td>\n",
       "      <td>NaN</td>\n",
       "      <td>Sicily &amp; Sardinia</td>\n",
       "      <td>Etna</td>\n",
       "      <td>NaN</td>\n",
       "      <td>Kerin O’Keefe</td>\n",
       "      <td>@kerinokeefe</td>\n",
       "      <td>Nicosia 2013 Vulkà Bianco  (Etna)</td>\n",
       "      <td>White Blend</td>\n",
       "      <td>Nicosia</td>\n",
       "    </tr>\n",
       "    <tr>\n",
       "      <th>1</th>\n",
       "      <td>Portugal</td>\n",
       "      <td>This is ripe and fruity, a wine that is smooth...</td>\n",
       "      <td>Avidagos</td>\n",
       "      <td>87</td>\n",
       "      <td>15.0</td>\n",
       "      <td>Douro</td>\n",
       "      <td>NaN</td>\n",
       "      <td>NaN</td>\n",
       "      <td>Roger Voss</td>\n",
       "      <td>@vossroger</td>\n",
       "      <td>Quinta dos Avidagos 2011 Avidagos Red (Douro)</td>\n",
       "      <td>Portuguese Red</td>\n",
       "      <td>Quinta dos Avidagos</td>\n",
       "    </tr>\n",
       "    <tr>\n",
       "      <th>2</th>\n",
       "      <td>US</td>\n",
       "      <td>Tart and snappy, the flavors of lime flesh and...</td>\n",
       "      <td>NaN</td>\n",
       "      <td>87</td>\n",
       "      <td>14.0</td>\n",
       "      <td>Oregon</td>\n",
       "      <td>Willamette Valley</td>\n",
       "      <td>Willamette Valley</td>\n",
       "      <td>Paul Gregutt</td>\n",
       "      <td>@paulgwine</td>\n",
       "      <td>Rainstorm 2013 Pinot Gris (Willamette Valley)</td>\n",
       "      <td>Pinot Gris</td>\n",
       "      <td>Rainstorm</td>\n",
       "    </tr>\n",
       "    <tr>\n",
       "      <th>3</th>\n",
       "      <td>US</td>\n",
       "      <td>Pineapple rind, lemon pith and orange blossom ...</td>\n",
       "      <td>Reserve Late Harvest</td>\n",
       "      <td>87</td>\n",
       "      <td>13.0</td>\n",
       "      <td>Michigan</td>\n",
       "      <td>Lake Michigan Shore</td>\n",
       "      <td>NaN</td>\n",
       "      <td>Alexander Peartree</td>\n",
       "      <td>NaN</td>\n",
       "      <td>St. Julian 2013 Reserve Late Harvest Riesling ...</td>\n",
       "      <td>Riesling</td>\n",
       "      <td>St. Julian</td>\n",
       "    </tr>\n",
       "    <tr>\n",
       "      <th>4</th>\n",
       "      <td>US</td>\n",
       "      <td>Much like the regular bottling from 2012, this...</td>\n",
       "      <td>Vintner's Reserve Wild Child Block</td>\n",
       "      <td>87</td>\n",
       "      <td>65.0</td>\n",
       "      <td>Oregon</td>\n",
       "      <td>Willamette Valley</td>\n",
       "      <td>Willamette Valley</td>\n",
       "      <td>Paul Gregutt</td>\n",
       "      <td>@paulgwine</td>\n",
       "      <td>Sweet Cheeks 2012 Vintner's Reserve Wild Child...</td>\n",
       "      <td>Pinot Noir</td>\n",
       "      <td>Sweet Cheeks</td>\n",
       "    </tr>\n",
       "  </tbody>\n",
       "</table>\n",
       "</div>"
      ],
      "text/plain": [
       "    country                                        description  \\\n",
       "0     Italy  Aromas include tropical fruit, broom, brimston...   \n",
       "1  Portugal  This is ripe and fruity, a wine that is smooth...   \n",
       "2        US  Tart and snappy, the flavors of lime flesh and...   \n",
       "3        US  Pineapple rind, lemon pith and orange blossom ...   \n",
       "4        US  Much like the regular bottling from 2012, this...   \n",
       "\n",
       "                          designation  points  price           province  \\\n",
       "0                        Vulkà Bianco      87    NaN  Sicily & Sardinia   \n",
       "1                            Avidagos      87   15.0              Douro   \n",
       "2                                 NaN      87   14.0             Oregon   \n",
       "3                Reserve Late Harvest      87   13.0           Michigan   \n",
       "4  Vintner's Reserve Wild Child Block      87   65.0             Oregon   \n",
       "\n",
       "              region_1           region_2         taster_name  \\\n",
       "0                 Etna                NaN       Kerin O’Keefe   \n",
       "1                  NaN                NaN          Roger Voss   \n",
       "2    Willamette Valley  Willamette Valley        Paul Gregutt   \n",
       "3  Lake Michigan Shore                NaN  Alexander Peartree   \n",
       "4    Willamette Valley  Willamette Valley        Paul Gregutt   \n",
       "\n",
       "  taster_twitter_handle                                              title  \\\n",
       "0          @kerinokeefe                  Nicosia 2013 Vulkà Bianco  (Etna)   \n",
       "1            @vossroger      Quinta dos Avidagos 2011 Avidagos Red (Douro)   \n",
       "2           @paulgwine       Rainstorm 2013 Pinot Gris (Willamette Valley)   \n",
       "3                   NaN  St. Julian 2013 Reserve Late Harvest Riesling ...   \n",
       "4           @paulgwine   Sweet Cheeks 2012 Vintner's Reserve Wild Child...   \n",
       "\n",
       "          variety               winery  \n",
       "0     White Blend              Nicosia  \n",
       "1  Portuguese Red  Quinta dos Avidagos  \n",
       "2      Pinot Gris            Rainstorm  \n",
       "3        Riesling           St. Julian  \n",
       "4      Pinot Noir         Sweet Cheeks  "
      ]
     },
     "execution_count": 45,
     "metadata": {},
     "output_type": "execute_result"
    }
   ],
   "source": [
    "df.drop(['Unnamed: 0'], axis=1, inplace=True)\n",
    "df.head()"
   ]
  },
  {
   "cell_type": "code",
   "execution_count": 47,
   "metadata": {},
   "outputs": [
    {
     "data": {
      "text/plain": [
       "country                     63\n",
       "description                  0\n",
       "designation              37465\n",
       "points                       0\n",
       "price                     8996\n",
       "province                    63\n",
       "region_1                 21247\n",
       "region_2                 79460\n",
       "taster_name              26244\n",
       "taster_twitter_handle    31213\n",
       "title                        0\n",
       "variety                      1\n",
       "winery                       0\n",
       "dtype: int64"
      ]
     },
     "execution_count": 47,
     "metadata": {},
     "output_type": "execute_result"
    }
   ],
   "source": [
    "df.isnull().sum()"
   ]
  },
  {
   "cell_type": "markdown",
   "metadata": {},
   "source": [
    "# Cria a Camada 1 - RAW Data\n",
    "Normalmente utilizaria um particionamento por data, mas como não temos este campo no Dataset optei por parcionar por país que é uma categórica, com poucos valores missing."
   ]
  },
  {
   "cell_type": "markdown",
   "metadata": {},
   "source": [
    "### Cria arquivo parquet Camada 1"
   ]
  },
  {
   "cell_type": "code",
   "execution_count": 48,
   "metadata": {},
   "outputs": [
    {
     "data": {
      "text/plain": [
       "['parquet_files/Camada_1/country=Argentina/b785ff42ee50403d9626e9bbb6a32f0e.parquet',\n",
       " 'parquet_files/Camada_1/country=Armenia/4c414aa299a04e75ad442775945c277d.parquet',\n",
       " 'parquet_files/Camada_1/country=Australia/d5f403517cfc4aecbcda65003d34502a.parquet',\n",
       " 'parquet_files/Camada_1/country=Austria/cdd96c3a5b724cca99b0d5f1dc18d6c9.parquet',\n",
       " 'parquet_files/Camada_1/country=Bosnia and Herzegovina/875c68ecc4324ef09612a0ab646673ed.parquet',\n",
       " 'parquet_files/Camada_1/country=Brazil/055440aa26ce450f8c77b8adb6a263cb.parquet',\n",
       " 'parquet_files/Camada_1/country=Bulgaria/d90a2e7f053e4e56995bc74bfdb54873.parquet',\n",
       " 'parquet_files/Camada_1/country=Canada/17fa926fe6ba44a7a607748c4154eb7b.parquet',\n",
       " 'parquet_files/Camada_1/country=Chile/61d7f679017349caa4e8931c7b0dcd77.parquet',\n",
       " 'parquet_files/Camada_1/country=China/f34bb2e8e1ce4405b90709ddae5586fa.parquet',\n",
       " 'parquet_files/Camada_1/country=Croatia/7472c3b708cd472db90215673f57278b.parquet',\n",
       " 'parquet_files/Camada_1/country=Cyprus/bfa48409794e41069e0b6e070d6c9894.parquet',\n",
       " 'parquet_files/Camada_1/country=Czech Republic/c924a1802b56438c8e51854cf2e7f248.parquet',\n",
       " 'parquet_files/Camada_1/country=Egypt/9cba9f316c324b5a9e5222a4f76c1a44.parquet',\n",
       " 'parquet_files/Camada_1/country=England/6502d3b4d9014a0c804ebe1262948675.parquet',\n",
       " 'parquet_files/Camada_1/country=France/5b0569df05c34f9ab4e2273905bfd7f6.parquet',\n",
       " 'parquet_files/Camada_1/country=Georgia/430bc2849f14464eb3c4f92d52a4c3b6.parquet',\n",
       " 'parquet_files/Camada_1/country=Germany/6293527f4fc24e5c870bcedea9f698e0.parquet',\n",
       " 'parquet_files/Camada_1/country=Greece/c9d7d98df8f94d33a370c4f19d4c0ff7.parquet',\n",
       " 'parquet_files/Camada_1/country=Hungary/6ecb7ebf6d5140408cecdf47460a618f.parquet',\n",
       " 'parquet_files/Camada_1/country=India/d1822185c9c0458997b37d4a7f18f79e.parquet',\n",
       " 'parquet_files/Camada_1/country=Israel/966c5c9d785c4ecb98b9fb30e3cbfd4e.parquet',\n",
       " 'parquet_files/Camada_1/country=Italy/79d75e8001814689b79563e550d8e1f1.parquet',\n",
       " 'parquet_files/Camada_1/country=Lebanon/1a10ec1aaa094cd08b8132dbb975d946.parquet',\n",
       " 'parquet_files/Camada_1/country=Luxembourg/9fb7536478b0422eb921b56bf716eced.parquet',\n",
       " 'parquet_files/Camada_1/country=Macedonia/97793cbc631449149547a508c8b83bbc.parquet',\n",
       " 'parquet_files/Camada_1/country=Mexico/ab4eb097472443ea87fc6ad1b80041da.parquet',\n",
       " 'parquet_files/Camada_1/country=Moldova/afee4e695ba145f1a2dfdeddd16dc0f0.parquet',\n",
       " 'parquet_files/Camada_1/country=Morocco/b65a7d7ab89c4853aa1585c7fe4e7c2b.parquet',\n",
       " 'parquet_files/Camada_1/country=New Zealand/df172d77737749629c2f1ff051fee723.parquet',\n",
       " 'parquet_files/Camada_1/country=Peru/e89a6aa4d50944daa2ceb4f2e030ddf9.parquet',\n",
       " 'parquet_files/Camada_1/country=Portugal/2d13d2252d824093b00169e67cf943ad.parquet',\n",
       " 'parquet_files/Camada_1/country=Romania/e36e0a8d27a84a8eb6e71291e6aa67bc.parquet',\n",
       " 'parquet_files/Camada_1/country=Serbia/027a90234e0f4876b51d297b78713724.parquet',\n",
       " 'parquet_files/Camada_1/country=Slovakia/0feba3f388aa4119825eadadda298ef0.parquet',\n",
       " 'parquet_files/Camada_1/country=Slovenia/cef32e46e7ac4b28a1c9e81bac79a68d.parquet',\n",
       " 'parquet_files/Camada_1/country=South Africa/86cecebf548d48b5a518334f9d03f70b.parquet',\n",
       " 'parquet_files/Camada_1/country=Spain/301013e1d88c4cf5b734a0b9ebbf4afb.parquet',\n",
       " 'parquet_files/Camada_1/country=Switzerland/6c8c1fe500a248aeac57d5578eae03c0.parquet',\n",
       " 'parquet_files/Camada_1/country=Turkey/2c3e230a3f4c499ba2e94bd992d2c523.parquet',\n",
       " 'parquet_files/Camada_1/country=US/11afc826e716460882df47c1216e61a4.parquet',\n",
       " 'parquet_files/Camada_1/country=Ukraine/42de5694431840f5a304747f52504b5e.parquet',\n",
       " 'parquet_files/Camada_1/country=Uruguay/2e69f6c8e7ba413c8d29e40ca9687013.parquet']"
      ]
     },
     "execution_count": 48,
     "metadata": {},
     "output_type": "execute_result"
    }
   ],
   "source": [
    "# Utiliza pyarrow para gerar os arquivos parquet\n",
    "# Nesta camada os dados serão particionados por país\n",
    "pa_table = pa.Table.from_pandas(df)\n",
    "pq.write_to_dataset(pa_table, \"parquet_files/Camada_1\",partition_cols=['country'])\n",
    "\n",
    "#Consulta os arquivos gerados\n",
    "dataset = ds.dataset(\"parquet_files/Camada_1\", format=\"parquet\")\n",
    "dataset.files"
   ]
  },
  {
   "cell_type": "markdown",
   "metadata": {},
   "source": [
    "# Cria Camada 2"
   ]
  },
  {
   "cell_type": "code",
   "execution_count": 194,
   "metadata": {},
   "outputs": [
    {
     "data": {
      "text/plain": [
       "((129908, 13),\n",
       " Index(['description', 'designation', 'points', 'price', 'province', 'region_1',\n",
       "        'region_2', 'taster_name', 'taster_twitter_handle', 'title', 'variety',\n",
       "        'winery', 'country'],\n",
       "       dtype='object'))"
      ]
     },
     "execution_count": 194,
     "metadata": {},
     "output_type": "execute_result"
    }
   ],
   "source": [
    "# Consome dados da Camada 1\n",
    "# Gera dataframe pandas\n",
    "dataset = ds.dataset(\"parquet_files/Camada_1/\", format=\"parquet\",partitioning=\"hive\")\n",
    "df = dataset.to_table().to_pandas()\n",
    "df.shape, df.columns"
   ]
  },
  {
   "cell_type": "code",
   "execution_count": 195,
   "metadata": {
    "scrolled": true
   },
   "outputs": [
    {
     "data": {
      "text/html": [
       "<div>\n",
       "<style scoped>\n",
       "    .dataframe tbody tr th:only-of-type {\n",
       "        vertical-align: middle;\n",
       "    }\n",
       "\n",
       "    .dataframe tbody tr th {\n",
       "        vertical-align: top;\n",
       "    }\n",
       "\n",
       "    .dataframe thead th {\n",
       "        text-align: right;\n",
       "    }\n",
       "</style>\n",
       "<table border=\"1\" class=\"dataframe\">\n",
       "  <thead>\n",
       "    <tr style=\"text-align: right;\">\n",
       "      <th></th>\n",
       "      <th>descricao</th>\n",
       "      <th>vinhedo</th>\n",
       "      <th>pontuacao</th>\n",
       "      <th>preco</th>\n",
       "      <th>estado</th>\n",
       "      <th>regiao_1</th>\n",
       "      <th>regiao_2</th>\n",
       "      <th>degustador</th>\n",
       "      <th>twitter</th>\n",
       "      <th>nome_vinho</th>\n",
       "      <th>tipo_uva</th>\n",
       "      <th>vinicola</th>\n",
       "      <th>pais</th>\n",
       "    </tr>\n",
       "  </thead>\n",
       "  <tbody>\n",
       "    <tr>\n",
       "      <th>0</th>\n",
       "      <td>Baked plum, molasses, balsamic vinegar and che...</td>\n",
       "      <td>Felix</td>\n",
       "      <td>87</td>\n",
       "      <td>30.0</td>\n",
       "      <td>Other</td>\n",
       "      <td>Cafayate</td>\n",
       "      <td>None</td>\n",
       "      <td>Michael Schachner</td>\n",
       "      <td>@wineschach</td>\n",
       "      <td>Felix Lavaque 2010 Felix Malbec (Cafayate)</td>\n",
       "      <td>Malbec</td>\n",
       "      <td>Felix Lavaque</td>\n",
       "      <td>Argentina</td>\n",
       "    </tr>\n",
       "    <tr>\n",
       "      <th>1</th>\n",
       "      <td>Raw black-cherry aromas are direct and simple ...</td>\n",
       "      <td>Winemaker Selection</td>\n",
       "      <td>87</td>\n",
       "      <td>13.0</td>\n",
       "      <td>Mendoza Province</td>\n",
       "      <td>Mendoza</td>\n",
       "      <td>None</td>\n",
       "      <td>Michael Schachner</td>\n",
       "      <td>@wineschach</td>\n",
       "      <td>Gaucho Andino 2011 Winemaker Selection Malbec ...</td>\n",
       "      <td>Malbec</td>\n",
       "      <td>Gaucho Andino</td>\n",
       "      <td>Argentina</td>\n",
       "    </tr>\n",
       "    <tr>\n",
       "      <th>2</th>\n",
       "      <td>With attractive melon and other tropical aroma...</td>\n",
       "      <td>None</td>\n",
       "      <td>88</td>\n",
       "      <td>12.0</td>\n",
       "      <td>Other</td>\n",
       "      <td>Salta</td>\n",
       "      <td>None</td>\n",
       "      <td>Michael Schachner</td>\n",
       "      <td>@wineschach</td>\n",
       "      <td>Alamos 2007 Torrontés (Salta)</td>\n",
       "      <td>Torrontés</td>\n",
       "      <td>Alamos</td>\n",
       "      <td>Argentina</td>\n",
       "    </tr>\n",
       "    <tr>\n",
       "      <th>3</th>\n",
       "      <td>Blackberry and road-tar aromas are dark and st...</td>\n",
       "      <td>Lunta</td>\n",
       "      <td>90</td>\n",
       "      <td>22.0</td>\n",
       "      <td>Mendoza Province</td>\n",
       "      <td>Luján de Cuyo</td>\n",
       "      <td>None</td>\n",
       "      <td>Michael Schachner</td>\n",
       "      <td>@wineschach</td>\n",
       "      <td>Mendel 2014 Lunta Malbec (Luján de Cuyo)</td>\n",
       "      <td>Malbec</td>\n",
       "      <td>Mendel</td>\n",
       "      <td>Argentina</td>\n",
       "    </tr>\n",
       "    <tr>\n",
       "      <th>4</th>\n",
       "      <td>Meaty and rubbery, but that's young Bonarda. T...</td>\n",
       "      <td>None</td>\n",
       "      <td>85</td>\n",
       "      <td>10.0</td>\n",
       "      <td>Mendoza Province</td>\n",
       "      <td>Mendoza</td>\n",
       "      <td>None</td>\n",
       "      <td>Michael Schachner</td>\n",
       "      <td>@wineschach</td>\n",
       "      <td>Andean Sky 2007 Bonarda (Mendoza)</td>\n",
       "      <td>Bonarda</td>\n",
       "      <td>Andean Sky</td>\n",
       "      <td>Argentina</td>\n",
       "    </tr>\n",
       "  </tbody>\n",
       "</table>\n",
       "</div>"
      ],
      "text/plain": [
       "                                           descricao              vinhedo  \\\n",
       "0  Baked plum, molasses, balsamic vinegar and che...                Felix   \n",
       "1  Raw black-cherry aromas are direct and simple ...  Winemaker Selection   \n",
       "2  With attractive melon and other tropical aroma...                 None   \n",
       "3  Blackberry and road-tar aromas are dark and st...                Lunta   \n",
       "4  Meaty and rubbery, but that's young Bonarda. T...                 None   \n",
       "\n",
       "   pontuacao  preco            estado       regiao_1 regiao_2  \\\n",
       "0         87   30.0             Other       Cafayate     None   \n",
       "1         87   13.0  Mendoza Province        Mendoza     None   \n",
       "2         88   12.0             Other          Salta     None   \n",
       "3         90   22.0  Mendoza Province  Luján de Cuyo     None   \n",
       "4         85   10.0  Mendoza Province        Mendoza     None   \n",
       "\n",
       "          degustador      twitter  \\\n",
       "0  Michael Schachner  @wineschach   \n",
       "1  Michael Schachner  @wineschach   \n",
       "2  Michael Schachner  @wineschach   \n",
       "3  Michael Schachner  @wineschach   \n",
       "4  Michael Schachner  @wineschach   \n",
       "\n",
       "                                          nome_vinho   tipo_uva  \\\n",
       "0         Felix Lavaque 2010 Felix Malbec (Cafayate)     Malbec   \n",
       "1  Gaucho Andino 2011 Winemaker Selection Malbec ...     Malbec   \n",
       "2                      Alamos 2007 Torrontés (Salta)  Torrontés   \n",
       "3           Mendel 2014 Lunta Malbec (Luján de Cuyo)     Malbec   \n",
       "4                  Andean Sky 2007 Bonarda (Mendoza)    Bonarda   \n",
       "\n",
       "        vinicola       pais  \n",
       "0  Felix Lavaque  Argentina  \n",
       "1  Gaucho Andino  Argentina  \n",
       "2         Alamos  Argentina  \n",
       "3         Mendel  Argentina  \n",
       "4     Andean Sky  Argentina  "
      ]
     },
     "execution_count": 195,
     "metadata": {},
     "output_type": "execute_result"
    }
   ],
   "source": [
    "# Renomeia colunas\n",
    "df.rename(columns={'country':'pais', 'description':'descricao','designation':'vinhedo',\n",
    "    'points':'pontuacao','price':'preco','province':'estado','region_1':'regiao_1',\n",
    "    'region_2':'regiao_2','taster_name':'degustador','taster_twitter_handle':'twitter','title':'nome_vinho',\n",
    "    'variety':'tipo_uva','winery':'vinicola'}, inplace=True)\n",
    "\n",
    "df.head()"
   ]
  },
  {
   "cell_type": "code",
   "execution_count": 196,
   "metadata": {
    "scrolled": false
   },
   "outputs": [
    {
     "data": {
      "text/plain": [
       "descricao         0\n",
       "vinhedo       37454\n",
       "pontuacao         0\n",
       "preco          8992\n",
       "estado            0\n",
       "regiao_1      21184\n",
       "regiao_2      79397\n",
       "degustador    26244\n",
       "twitter       31213\n",
       "nome_vinho        0\n",
       "tipo_uva          1\n",
       "vinicola          0\n",
       "pais              0\n",
       "dtype: int64"
      ]
     },
     "execution_count": 196,
     "metadata": {},
     "output_type": "execute_result"
    }
   ],
   "source": [
    "# Verifica dados faltantes\n",
    "df.isnull().sum()"
   ]
  },
  {
   "cell_type": "code",
   "execution_count": 197,
   "metadata": {},
   "outputs": [],
   "source": [
    "# pensei em inferir o precos faltantes com base na media de preco \n",
    "# de outros vinhos da vinicola mas decidi adortar uma outra abordagem\n",
    "\n",
    "\"\"\"\n",
    "def infere_preco(param_vinicola):\n",
    "    df_temp = df[['vinicola','preco']][df['vinicola']==param_vinicola]\n",
    "    preco = df_temp['preco'].mean()\n",
    "       return preco\n",
    "\n",
    "df.loc[df['preco'].isnull(),'preco'] = df['vinicola'].apply(infere_preco)\n",
    "\"\"\"\n",
    "\n",
    "# Resolvi preencher com zero para uso no filtro em analises q envolvam preco\n",
    "df.loc[df['preco'].isnull(),'preco'] = 0.00"
   ]
  },
  {
   "cell_type": "code",
   "execution_count": 198,
   "metadata": {},
   "outputs": [],
   "source": [
    "# dropa colunas q nao serão utilizadas neste momento (nestas analises)\n",
    "df.drop(['descricao','vinhedo','regiao_1','regiao_2','degustador','twitter'],axis=1, inplace=True)"
   ]
  },
  {
   "cell_type": "code",
   "execution_count": 202,
   "metadata": {},
   "outputs": [],
   "source": [
    "# remove duplicados\n",
    "df.drop_duplicates(inplace=True)"
   ]
  },
  {
   "cell_type": "code",
   "execution_count": 203,
   "metadata": {},
   "outputs": [
    {
     "data": {
      "text/plain": [
       "pontuacao     0\n",
       "preco         0\n",
       "estado        0\n",
       "nome_vinho    0\n",
       "tipo_uva      1\n",
       "vinicola      0\n",
       "pais          0\n",
       "dtype: int64"
      ]
     },
     "execution_count": 203,
     "metadata": {},
     "output_type": "execute_result"
    }
   ],
   "source": [
    "df.isnull().sum()"
   ]
  },
  {
   "cell_type": "code",
   "execution_count": 206,
   "metadata": {},
   "outputs": [
    {
     "name": "stdout",
     "output_type": "stream",
     "text": [
      "<class 'pandas.core.frame.DataFrame'>\n",
      "Int64Index: 119828 entries, 0 to 129907\n",
      "Data columns (total 7 columns):\n",
      " #   Column      Non-Null Count   Dtype  \n",
      "---  ------      --------------   -----  \n",
      " 0   pontuacao   119828 non-null  int64  \n",
      " 1   preco       119828 non-null  float64\n",
      " 2   estado      119828 non-null  object \n",
      " 3   nome_vinho  119828 non-null  object \n",
      " 4   tipo_uva    119827 non-null  object \n",
      " 5   vinicola    119828 non-null  object \n",
      " 6   pais        119828 non-null  object \n",
      "dtypes: float64(1), int64(1), object(5)\n",
      "memory usage: 7.3+ MB\n"
     ]
    }
   ],
   "source": [
    "df.info()"
   ]
  },
  {
   "cell_type": "code",
   "execution_count": 213,
   "metadata": {},
   "outputs": [
    {
     "data": {
      "text/plain": [
       "preco: double\n",
       "  -- field metadata --\n",
       "  PARQUET:field_id: '1'\n",
       "estado: string\n",
       "  -- field metadata --\n",
       "  PARQUET:field_id: '2'\n",
       "nome_vinho: string\n",
       "  -- field metadata --\n",
       "  PARQUET:field_id: '3'\n",
       "tipo_uva: string\n",
       "  -- field metadata --\n",
       "  PARQUET:field_id: '4'\n",
       "vinicola: string\n",
       "  -- field metadata --\n",
       "  PARQUET:field_id: '5'\n",
       "__index_level_0__: int64\n",
       "  -- field metadata --\n",
       "  PARQUET:field_id: '6'\n",
       "-- schema metadata --\n",
       "pandas: '{\"index_columns\": [\"__index_level_0__\"], \"column_indexes\": [{\"na' + 903"
      ]
     },
     "execution_count": 213,
     "metadata": {},
     "output_type": "execute_result"
    }
   ],
   "source": [
    "pa_table = pa.Table.from_pandas(df)\n",
    "pq.write_to_dataset(pa_table, \"parquet_files/Camada_2\",partition_cols=['pontuacao','pais'])\n",
    "\n",
    "#Consulta os arquivos gerados\n",
    "dataset = ds.dataset(\"parquet_files/Camada_2\", format=\"parquet\")\n",
    "dataset.schema"
   ]
  },
  {
   "cell_type": "markdown",
   "metadata": {},
   "source": [
    "### EDA / Visões"
   ]
  },
  {
   "cell_type": "code",
   "execution_count": 245,
   "metadata": {},
   "outputs": [],
   "source": [
    "# consome dados camada 2\n",
    "dataset = ds.dataset(\"parquet_files/Camada_2/\", format=\"parquet\",partitioning=\"hive\")\n",
    "df_principal = dataset.to_table().to_pandas()"
   ]
  },
  {
   "cell_type": "code",
   "execution_count": 247,
   "metadata": {},
   "outputs": [
    {
     "data": {
      "text/plain": [
       "(119828, 7)"
      ]
     },
     "execution_count": 247,
     "metadata": {},
     "output_type": "execute_result"
    }
   ],
   "source": [
    "df_principal.shape"
   ]
  },
  {
   "cell_type": "markdown",
   "metadata": {},
   "source": [
    "## Quais os vinhos com melhor pontuacao, origem e preço ?"
   ]
  },
  {
   "cell_type": "code",
   "execution_count": 244,
   "metadata": {},
   "outputs": [],
   "source": [
    "df = dataset.to_table(filter=ds.field('pontuacao') == 100).to_pandas()"
   ]
  },
  {
   "cell_type": "code",
   "execution_count": 252,
   "metadata": {},
   "outputs": [
    {
     "data": {
      "text/html": [
       "<div>\n",
       "<style scoped>\n",
       "    .dataframe tbody tr th:only-of-type {\n",
       "        vertical-align: middle;\n",
       "    }\n",
       "\n",
       "    .dataframe tbody tr th {\n",
       "        vertical-align: top;\n",
       "    }\n",
       "\n",
       "    .dataframe thead tr th {\n",
       "        text-align: left;\n",
       "    }\n",
       "\n",
       "    .dataframe thead tr:last-of-type th {\n",
       "        text-align: right;\n",
       "    }\n",
       "</style>\n",
       "<table border=\"1\" class=\"dataframe\">\n",
       "  <thead>\n",
       "    <tr>\n",
       "      <th></th>\n",
       "      <th></th>\n",
       "      <th>preco</th>\n",
       "    </tr>\n",
       "    <tr>\n",
       "      <th></th>\n",
       "      <th>pontuacao</th>\n",
       "      <th>100</th>\n",
       "    </tr>\n",
       "    <tr>\n",
       "      <th>pais</th>\n",
       "      <th>nome_vinho</th>\n",
       "      <th></th>\n",
       "    </tr>\n",
       "  </thead>\n",
       "  <tbody>\n",
       "    <tr>\n",
       "      <th>Australia</th>\n",
       "      <th>Chambers Rosewood Vineyards NV Rare Muscat (Rutherglen)</th>\n",
       "      <td>350.00</td>\n",
       "    </tr>\n",
       "    <tr>\n",
       "      <th rowspan=\"8\" valign=\"top\">France</th>\n",
       "      <th>Château Cheval Blanc 2010  Saint-Émilion</th>\n",
       "      <td>1,500.00</td>\n",
       "    </tr>\n",
       "    <tr>\n",
       "      <th>Château Haut-Brion 2014  Pessac-Léognan</th>\n",
       "      <td>848.00</td>\n",
       "    </tr>\n",
       "    <tr>\n",
       "      <th>Château Lafite Rothschild 2010  Pauillac</th>\n",
       "      <td>1,500.00</td>\n",
       "    </tr>\n",
       "    <tr>\n",
       "      <th>Château Léoville Barton 2010  Saint-Julien</th>\n",
       "      <td>150.00</td>\n",
       "    </tr>\n",
       "    <tr>\n",
       "      <th>Château Léoville Las Cases 2010  Saint-Julien</th>\n",
       "      <td>359.00</td>\n",
       "    </tr>\n",
       "    <tr>\n",
       "      <th>Krug 2002 Brut  (Champagne)</th>\n",
       "      <td>259.00</td>\n",
       "    </tr>\n",
       "    <tr>\n",
       "      <th>Louis Roederer 2008 Cristal Vintage Brut  (Champagne)</th>\n",
       "      <td>250.00</td>\n",
       "    </tr>\n",
       "    <tr>\n",
       "      <th>Salon 2006 Le Mesnil Blanc de Blancs Brut Chardonnay (Champagne)</th>\n",
       "      <td>617.00</td>\n",
       "    </tr>\n",
       "    <tr>\n",
       "      <th rowspan=\"4\" valign=\"top\">Italy</th>\n",
       "      <th>Avignonesi 1995 Occhio di Pernice  (Vin Santo di Montepulciano)</th>\n",
       "      <td>210.00</td>\n",
       "    </tr>\n",
       "    <tr>\n",
       "      <th>Biondi Santi 2010 Riserva  (Brunello di Montalcino)</th>\n",
       "      <td>550.00</td>\n",
       "    </tr>\n",
       "    <tr>\n",
       "      <th>Casanova di Neri 2007 Cerretalto  (Brunello di Montalcino)</th>\n",
       "      <td>270.00</td>\n",
       "    </tr>\n",
       "    <tr>\n",
       "      <th>Tenuta dell'Ornellaia 2007 Masseto Merlot (Toscana)</th>\n",
       "      <td>460.00</td>\n",
       "    </tr>\n",
       "    <tr>\n",
       "      <th rowspan=\"2\" valign=\"top\">Portugal</th>\n",
       "      <th>Casa Ferreirinha 2008 Barca-Velha Red (Douro)</th>\n",
       "      <td>450.00</td>\n",
       "    </tr>\n",
       "    <tr>\n",
       "      <th>Quinta do Noval 2011 Nacional Vintage  (Port)</th>\n",
       "      <td>650.00</td>\n",
       "    </tr>\n",
       "    <tr>\n",
       "      <th rowspan=\"4\" valign=\"top\">US</th>\n",
       "      <th>Cardinale 2006 Cabernet Sauvignon (Napa Valley)</th>\n",
       "      <td>200.00</td>\n",
       "    </tr>\n",
       "    <tr>\n",
       "      <th>Cayuse 2008 Bionic Frog Syrah (Walla Walla Valley (WA))</th>\n",
       "      <td>80.00</td>\n",
       "    </tr>\n",
       "    <tr>\n",
       "      <th>Charles Smith 2006 Royal City Syrah (Columbia Valley (WA))</th>\n",
       "      <td>80.00</td>\n",
       "    </tr>\n",
       "    <tr>\n",
       "      <th>Verité 2007 La Muse Red (Sonoma County)</th>\n",
       "      <td>450.00</td>\n",
       "    </tr>\n",
       "  </tbody>\n",
       "</table>\n",
       "</div>"
      ],
      "text/plain": [
       "                                                                preco\n",
       "pontuacao                                                         100\n",
       "pais      nome_vinho                                                 \n",
       "Australia Chambers Rosewood Vineyards NV Rare Muscat (Rut...   350.00\n",
       "France    Château Cheval Blanc 2010  Saint-Émilion           1,500.00\n",
       "          Château Haut-Brion 2014  Pessac-Léognan              848.00\n",
       "          Château Lafite Rothschild 2010  Pauillac           1,500.00\n",
       "          Château Léoville Barton 2010  Saint-Julien           150.00\n",
       "          Château Léoville Las Cases 2010  Saint-Julien        359.00\n",
       "          Krug 2002 Brut  (Champagne)                          259.00\n",
       "          Louis Roederer 2008 Cristal Vintage Brut  (Cham...   250.00\n",
       "          Salon 2006 Le Mesnil Blanc de Blancs Brut Chard...   617.00\n",
       "Italy     Avignonesi 1995 Occhio di Pernice  (Vin Santo d...   210.00\n",
       "          Biondi Santi 2010 Riserva  (Brunello di Montalc...   550.00\n",
       "          Casanova di Neri 2007 Cerretalto  (Brunello di ...   270.00\n",
       "          Tenuta dell'Ornellaia 2007 Masseto Merlot (Tosc...   460.00\n",
       "Portugal  Casa Ferreirinha 2008 Barca-Velha Red (Douro)        450.00\n",
       "          Quinta do Noval 2011 Nacional Vintage  (Port)        650.00\n",
       "US        Cardinale 2006 Cabernet Sauvignon (Napa Valley)      200.00\n",
       "          Cayuse 2008 Bionic Frog Syrah (Walla Walla Vall...    80.00\n",
       "          Charles Smith 2006 Royal City Syrah (Columbia V...    80.00\n",
       "          Verité 2007 La Muse Red (Sonoma County)              450.00"
      ]
     },
     "execution_count": 252,
     "metadata": {},
     "output_type": "execute_result"
    }
   ],
   "source": [
    "pd.pivot_table(df,index=['pais','nome_vinho'], aggfunc='sum',columns=['pontuacao'],values=['preco'])"
   ]
  },
  {
   "cell_type": "markdown",
   "metadata": {},
   "source": [
    "## Quais vinhos com menor pontuacao, origem e preço?"
   ]
  },
  {
   "cell_type": "code",
   "execution_count": 358,
   "metadata": {},
   "outputs": [
    {
     "data": {
      "text/html": [
       "<div>\n",
       "<style scoped>\n",
       "    .dataframe tbody tr th:only-of-type {\n",
       "        vertical-align: middle;\n",
       "    }\n",
       "\n",
       "    .dataframe tbody tr th {\n",
       "        vertical-align: top;\n",
       "    }\n",
       "\n",
       "    .dataframe thead tr th {\n",
       "        text-align: left;\n",
       "    }\n",
       "\n",
       "    .dataframe thead tr:last-of-type th {\n",
       "        text-align: right;\n",
       "    }\n",
       "</style>\n",
       "<table border=\"1\" class=\"dataframe\">\n",
       "  <thead>\n",
       "    <tr>\n",
       "      <th></th>\n",
       "      <th></th>\n",
       "      <th>preco</th>\n",
       "    </tr>\n",
       "    <tr>\n",
       "      <th></th>\n",
       "      <th>pontuacao</th>\n",
       "      <th>80</th>\n",
       "    </tr>\n",
       "    <tr>\n",
       "      <th>pais</th>\n",
       "      <th>nome_vinho</th>\n",
       "      <th></th>\n",
       "    </tr>\n",
       "  </thead>\n",
       "  <tbody>\n",
       "    <tr>\n",
       "      <th rowspan=\"5\" valign=\"top\">Argentina</th>\n",
       "      <th>Alfredo Roca 2006 Chardonnay</th>\n",
       "      <td>10.00</td>\n",
       "    </tr>\n",
       "    <tr>\n",
       "      <th>Alfredo Roca 2007 Sauvignon Blanc</th>\n",
       "      <td>12.00</td>\n",
       "    </tr>\n",
       "    <tr>\n",
       "      <th>Alma del Sur 2009 Colección Cabernet Sauvignon-Malbec (Mendoza)</th>\n",
       "      <td>12.00</td>\n",
       "    </tr>\n",
       "    <tr>\n",
       "      <th>Alta Vista 2007 Finca Monte Lindo Chardonnay (Mendoza)</th>\n",
       "      <td>9.00</td>\n",
       "    </tr>\n",
       "    <tr>\n",
       "      <th>Andeluna 2015 1300 Chardonnay (Valle de Uco)</th>\n",
       "      <td>16.00</td>\n",
       "    </tr>\n",
       "    <tr>\n",
       "      <th>...</th>\n",
       "      <th>...</th>\n",
       "      <td>...</td>\n",
       "    </tr>\n",
       "    <tr>\n",
       "      <th rowspan=\"3\" valign=\"top\">US</th>\n",
       "      <th>Wise Villa 2011 Tempranillo (Sierra Foothills)</th>\n",
       "      <td>29.00</td>\n",
       "    </tr>\n",
       "    <tr>\n",
       "      <th>Wise Villa 2011 Zinfandel (California)</th>\n",
       "      <td>29.00</td>\n",
       "    </tr>\n",
       "    <tr>\n",
       "      <th>Zinsane 2011 Zinfandel (Lodi)</th>\n",
       "      <td>13.00</td>\n",
       "    </tr>\n",
       "    <tr>\n",
       "      <th rowspan=\"2\" valign=\"top\">Uruguay</th>\n",
       "      <th>Marichal 2012 Premium Varietal Chardonnay (Canelones)</th>\n",
       "      <td>16.00</td>\n",
       "    </tr>\n",
       "    <tr>\n",
       "      <th>Pueblo del Sol 2009 Tannat (Juanico)</th>\n",
       "      <td>10.00</td>\n",
       "    </tr>\n",
       "  </tbody>\n",
       "</table>\n",
       "<p>397 rows × 1 columns</p>\n",
       "</div>"
      ],
      "text/plain": [
       "                                                             preco\n",
       "pontuacao                                                       80\n",
       "pais      nome_vinho                                              \n",
       "Argentina Alfredo Roca 2006 Chardonnay                       10.00\n",
       "          Alfredo Roca 2007 Sauvignon Blanc                  12.00\n",
       "          Alma del Sur 2009 Colección Cabernet Sauvignon-... 12.00\n",
       "          Alta Vista 2007 Finca Monte Lindo Chardonnay (M...  9.00\n",
       "          Andeluna 2015 1300 Chardonnay (Valle de Uco)       16.00\n",
       "...                                                            ...\n",
       "US        Wise Villa 2011 Tempranillo (Sierra Foothills)     29.00\n",
       "          Wise Villa 2011 Zinfandel (California)             29.00\n",
       "          Zinsane 2011 Zinfandel (Lodi)                      13.00\n",
       "Uruguay   Marichal 2012 Premium Varietal Chardonnay (Cane... 16.00\n",
       "          Pueblo del Sol 2009 Tannat (Juanico)               10.00\n",
       "\n",
       "[397 rows x 1 columns]"
      ]
     },
     "execution_count": 358,
     "metadata": {},
     "output_type": "execute_result"
    }
   ],
   "source": [
    "df = dataset.to_table(filter=ds.field('pontuacao') == 80).to_pandas()\n",
    "df_visao = pd.pivot_table(df,index=['pais','nome_vinho'], aggfunc='sum',columns=['pontuacao'],values=['preco'])\n",
    "df_visao"
   ]
  },
  {
   "cell_type": "markdown",
   "metadata": {},
   "source": [
    "## Quais paises possuem vinhos com preço acima de 500.00 dolares ?"
   ]
  },
  {
   "cell_type": "code",
   "execution_count": 376,
   "metadata": {},
   "outputs": [
    {
     "data": {
      "image/png": "[encoded data removed]",
      "text/plain": [
       "<Figure size 432x288 with 1 Axes>"
      ]
     },
     "metadata": {
      "needs_background": "light"
     },
     "output_type": "display_data"
    }
   ],
   "source": [
    "df_visao = df_principal[['pais','preco']][df_principal['preco']>500].sort_values(by=['preco'],ascending=False)\n",
    "\n",
    "sns.countplot(data = df_visao, x='pais', order=df_visao['pais'].value_counts().index, palette='pastel')\n",
    "\n",
    "plt.xticks(rotation=90);\n"
   ]
  },
  {
   "cell_type": "markdown",
   "metadata": {},
   "source": [
    "## Existe alguma relação entre o preço do vinho e a pontuação recebida? O vinho mais pontuado é o mais caro?"
   ]
  },
  {
   "cell_type": "code",
   "execution_count": 397,
   "metadata": {},
   "outputs": [
    {
     "data": {
      "text/plain": [
       "<AxesSubplot:xlabel='pontuacao', ylabel='preco'>"
      ]
     },
     "execution_count": 397,
     "metadata": {},
     "output_type": "execute_result"
    },
    {
     "data": {
      "image/png": "[encoded data removed]",
      "text/plain": [
       "<Figure size 432x288 with 1 Axes>"
      ]
     },
     "metadata": {
      "needs_background": "light"
     },
     "output_type": "display_data"
    }
   ],
   "source": [
    "sns.scatterplot(data=df_principal, x='pontuacao', y='preco')"
   ]
  },
  {
   "cell_type": "code",
   "execution_count": null,
   "metadata": {},
   "outputs": [],
   "source": []
  },
  {
   "cell_type": "markdown",
   "metadata": {},
   "source": [
    "## Como está distribuido a pontuação ? (Histograma da distribuição dos dados relativos a pontuação recebida)"
   ]
  },
  {
   "cell_type": "code",
   "execution_count": 386,
   "metadata": {},
   "outputs": [
    {
     "data": {
      "image/png": "[encoded data removed]",
      "text/plain": [
       "<Figure size 432x288 with 1 Axes>"
      ]
     },
     "metadata": {
      "needs_background": "light"
     },
     "output_type": "display_data"
    }
   ],
   "source": [
    "plt.hist(df_principal['pontuacao']);"
   ]
  },
  {
   "cell_type": "markdown",
   "metadata": {},
   "source": [
    "## Box plot da pontuação\n",
    "* é possivel notar a mediana um pouco acima de 87,5 - ou seja 50% dos dados tiveram pontuação entre 80 e 88.\n",
    "* os outros 50% dos dados estão entre 88 e 91\n",
    "* possível identificar alguns Outliers\n"
   ]
  },
  {
   "cell_type": "code",
   "execution_count": 390,
   "metadata": {},
   "outputs": [
    {
     "data": {
      "text/plain": [
       "<AxesSubplot:xlabel='pontuacao'>"
      ]
     },
     "execution_count": 390,
     "metadata": {},
     "output_type": "execute_result"
    },
    {
     "data": {
      "image/png": "[encoded data removed]",
      "text/plain": [
       "<Figure size 432x288 with 1 Axes>"
      ]
     },
     "metadata": {
      "needs_background": "light"
     },
     "output_type": "display_data"
    }
   ],
   "source": [
    "sns.boxplot(data=df_principal, x=df_principal['pontuacao'])"
   ]
  },
  {
   "cell_type": "markdown",
   "metadata": {},
   "source": [
    "## Quem são os Outliers ?\n",
    "* Notamos que há vinhos de 80.00 dolare e com pontuação alta"
   ]
  },
  {
   "cell_type": "code",
   "execution_count": 426,
   "metadata": {},
   "outputs": [
    {
     "data": {
      "text/html": [
       "<div>\n",
       "<style scoped>\n",
       "    .dataframe tbody tr th:only-of-type {\n",
       "        vertical-align: middle;\n",
       "    }\n",
       "\n",
       "    .dataframe tbody tr th {\n",
       "        vertical-align: top;\n",
       "    }\n",
       "\n",
       "    .dataframe thead th {\n",
       "        text-align: right;\n",
       "    }\n",
       "</style>\n",
       "<table border=\"1\" class=\"dataframe\">\n",
       "  <thead>\n",
       "    <tr style=\"text-align: right;\">\n",
       "      <th></th>\n",
       "      <th>pais</th>\n",
       "      <th>nome_vinho</th>\n",
       "      <th>pontuacao</th>\n",
       "      <th>preco</th>\n",
       "    </tr>\n",
       "  </thead>\n",
       "  <tbody>\n",
       "    <tr>\n",
       "      <th>33656</th>\n",
       "      <td>France</td>\n",
       "      <td>Château Lafite Rothschild 2010  Pauillac</td>\n",
       "      <td>100</td>\n",
       "      <td>1,500.00</td>\n",
       "    </tr>\n",
       "    <tr>\n",
       "      <th>33657</th>\n",
       "      <td>France</td>\n",
       "      <td>Château Cheval Blanc 2010  Saint-Émilion</td>\n",
       "      <td>100</td>\n",
       "      <td>1,500.00</td>\n",
       "    </tr>\n",
       "    <tr>\n",
       "      <th>35468</th>\n",
       "      <td>France</td>\n",
       "      <td>Château Haut-Brion 2014  Pessac-Léognan</td>\n",
       "      <td>100</td>\n",
       "      <td>848.00</td>\n",
       "    </tr>\n",
       "    <tr>\n",
       "      <th>66294</th>\n",
       "      <td>Portugal</td>\n",
       "      <td>Quinta do Noval 2011 Nacional Vintage  (Port)</td>\n",
       "      <td>100</td>\n",
       "      <td>650.00</td>\n",
       "    </tr>\n",
       "    <tr>\n",
       "      <th>29834</th>\n",
       "      <td>France</td>\n",
       "      <td>Salon 2006 Le Mesnil Blanc de Blancs Brut Char...</td>\n",
       "      <td>100</td>\n",
       "      <td>617.00</td>\n",
       "    </tr>\n",
       "    <tr>\n",
       "      <th>47116</th>\n",
       "      <td>Italy</td>\n",
       "      <td>Biondi Santi 2010 Riserva  (Brunello di Montal...</td>\n",
       "      <td>100</td>\n",
       "      <td>550.00</td>\n",
       "    </tr>\n",
       "    <tr>\n",
       "      <th>46082</th>\n",
       "      <td>Italy</td>\n",
       "      <td>Tenuta dell'Ornellaia 2007 Masseto Merlot (Tos...</td>\n",
       "      <td>100</td>\n",
       "      <td>460.00</td>\n",
       "    </tr>\n",
       "    <tr>\n",
       "      <th>63109</th>\n",
       "      <td>Portugal</td>\n",
       "      <td>Casa Ferreirinha 2008 Barca-Velha Red (Douro)</td>\n",
       "      <td>100</td>\n",
       "      <td>450.00</td>\n",
       "    </tr>\n",
       "    <tr>\n",
       "      <th>124680</th>\n",
       "      <td>US</td>\n",
       "      <td>Verité 2007 La Muse Red (Sonoma County)</td>\n",
       "      <td>100</td>\n",
       "      <td>450.00</td>\n",
       "    </tr>\n",
       "    <tr>\n",
       "      <th>33658</th>\n",
       "      <td>France</td>\n",
       "      <td>Château Léoville Las Cases 2010  Saint-Julien</td>\n",
       "      <td>100</td>\n",
       "      <td>359.00</td>\n",
       "    </tr>\n",
       "    <tr>\n",
       "      <th>3810</th>\n",
       "      <td>Australia</td>\n",
       "      <td>Chambers Rosewood Vineyards NV Rare Muscat (Ru...</td>\n",
       "      <td>100</td>\n",
       "      <td>350.00</td>\n",
       "    </tr>\n",
       "    <tr>\n",
       "      <th>56994</th>\n",
       "      <td>Italy</td>\n",
       "      <td>Casanova di Neri 2007 Cerretalto  (Brunello di...</td>\n",
       "      <td>100</td>\n",
       "      <td>270.00</td>\n",
       "    </tr>\n",
       "    <tr>\n",
       "      <th>20719</th>\n",
       "      <td>France</td>\n",
       "      <td>Krug 2002 Brut  (Champagne)</td>\n",
       "      <td>100</td>\n",
       "      <td>259.00</td>\n",
       "    </tr>\n",
       "    <tr>\n",
       "      <th>29833</th>\n",
       "      <td>France</td>\n",
       "      <td>Louis Roederer 2008 Cristal Vintage Brut  (Cha...</td>\n",
       "      <td>100</td>\n",
       "      <td>250.00</td>\n",
       "    </tr>\n",
       "    <tr>\n",
       "      <th>41198</th>\n",
       "      <td>Italy</td>\n",
       "      <td>Avignonesi 1995 Occhio di Pernice  (Vin Santo ...</td>\n",
       "      <td>100</td>\n",
       "      <td>210.00</td>\n",
       "    </tr>\n",
       "    <tr>\n",
       "      <th>94238</th>\n",
       "      <td>US</td>\n",
       "      <td>Cardinale 2006 Cabernet Sauvignon (Napa Valley)</td>\n",
       "      <td>100</td>\n",
       "      <td>200.00</td>\n",
       "    </tr>\n",
       "    <tr>\n",
       "      <th>24539</th>\n",
       "      <td>France</td>\n",
       "      <td>Château Léoville Barton 2010  Saint-Julien</td>\n",
       "      <td>100</td>\n",
       "      <td>150.00</td>\n",
       "    </tr>\n",
       "    <tr>\n",
       "      <th>122854</th>\n",
       "      <td>US</td>\n",
       "      <td>Charles Smith 2006 Royal City Syrah (Columbia ...</td>\n",
       "      <td>100</td>\n",
       "      <td>80.00</td>\n",
       "    </tr>\n",
       "    <tr>\n",
       "      <th>126998</th>\n",
       "      <td>US</td>\n",
       "      <td>Cayuse 2008 Bionic Frog Syrah (Walla Walla Val...</td>\n",
       "      <td>100</td>\n",
       "      <td>80.00</td>\n",
       "    </tr>\n",
       "  </tbody>\n",
       "</table>\n",
       "</div>"
      ],
      "text/plain": [
       "             pais                                         nome_vinho  \\\n",
       "33656      France           Château Lafite Rothschild 2010  Pauillac   \n",
       "33657      France           Château Cheval Blanc 2010  Saint-Émilion   \n",
       "35468      France            Château Haut-Brion 2014  Pessac-Léognan   \n",
       "66294    Portugal      Quinta do Noval 2011 Nacional Vintage  (Port)   \n",
       "29834      France  Salon 2006 Le Mesnil Blanc de Blancs Brut Char...   \n",
       "47116       Italy  Biondi Santi 2010 Riserva  (Brunello di Montal...   \n",
       "46082       Italy  Tenuta dell'Ornellaia 2007 Masseto Merlot (Tos...   \n",
       "63109    Portugal      Casa Ferreirinha 2008 Barca-Velha Red (Douro)   \n",
       "124680         US            Verité 2007 La Muse Red (Sonoma County)   \n",
       "33658      France      Château Léoville Las Cases 2010  Saint-Julien   \n",
       "3810    Australia  Chambers Rosewood Vineyards NV Rare Muscat (Ru...   \n",
       "56994       Italy  Casanova di Neri 2007 Cerretalto  (Brunello di...   \n",
       "20719      France                        Krug 2002 Brut  (Champagne)   \n",
       "29833      France  Louis Roederer 2008 Cristal Vintage Brut  (Cha...   \n",
       "41198       Italy  Avignonesi 1995 Occhio di Pernice  (Vin Santo ...   \n",
       "94238          US    Cardinale 2006 Cabernet Sauvignon (Napa Valley)   \n",
       "24539      France         Château Léoville Barton 2010  Saint-Julien   \n",
       "122854         US  Charles Smith 2006 Royal City Syrah (Columbia ...   \n",
       "126998         US  Cayuse 2008 Bionic Frog Syrah (Walla Walla Val...   \n",
       "\n",
       "        pontuacao    preco  \n",
       "33656         100 1,500.00  \n",
       "33657         100 1,500.00  \n",
       "35468         100   848.00  \n",
       "66294         100   650.00  \n",
       "29834         100   617.00  \n",
       "47116         100   550.00  \n",
       "46082         100   460.00  \n",
       "63109         100   450.00  \n",
       "124680        100   450.00  \n",
       "33658         100   359.00  \n",
       "3810          100   350.00  \n",
       "56994         100   270.00  \n",
       "20719         100   259.00  \n",
       "29833         100   250.00  \n",
       "41198         100   210.00  \n",
       "94238         100   200.00  \n",
       "24539         100   150.00  \n",
       "122854        100    80.00  \n",
       "126998        100    80.00  "
      ]
     },
     "execution_count": 426,
     "metadata": {},
     "output_type": "execute_result"
    }
   ],
   "source": [
    "df_visao = df_principal[['pais', 'nome_vinho','pontuacao','preco']][df_principal['pontuacao'] > 99].sort_values(['pontuacao','preco'], ascending=False)\n",
    "df_visao.head(20)"
   ]
  },
  {
   "cell_type": "code",
   "execution_count": 421,
   "metadata": {},
   "outputs": [
    {
     "data": {
      "image/png": "[encoded data removed]",
      "text/plain": [
       "<Figure size 648x360 with 1 Axes>"
      ]
     },
     "metadata": {
      "needs_background": "light"
     },
     "output_type": "display_data"
    }
   ],
   "source": [
    "df_visao = df_principal[['pais', 'preco']][df_principal['pontuacao'] > 99]\n",
    "plt.subplots(figsize=(9,5))\n",
    "sns.stripplot(data = df_visao, x='pais', y='preco')\n",
    "plt.xticks(rotation=90);"
   ]
  },
  {
   "cell_type": "markdown",
   "metadata": {},
   "source": [
    "## Vamos verificar quais paises foram bem pontuados. (Melhores vinhos)\n",
    "* LEGAL TEMOS VINHO BRASILEIRO NA LISTA"
   ]
  },
  {
   "cell_type": "code",
   "execution_count": 404,
   "metadata": {},
   "outputs": [
    {
     "data": {
      "image/png": "[encoded data removed]",
      "text/plain": [
       "<Figure size 648x360 with 1 Axes>"
      ]
     },
     "metadata": {
      "needs_background": "light"
     },
     "output_type": "display_data"
    }
   ],
   "source": [
    "df_visao = df_principal[['pais', 'pontuacao']][df_principal['pontuacao'] > 88]\n",
    "plt.subplots(figsize=(9,5))\n",
    "sns.stripplot(data = df_visao, x='pais', y='pontuacao')\n",
    "plt.xticks(rotation=90);"
   ]
  },
  {
   "cell_type": "markdown",
   "metadata": {},
   "source": [
    "## Diante disso como está o Brasil nesse conjunto ?\n",
    "* INFELIZMENTE A MAIORIA DE NOSSOS VINHOS ESTÃO COM NOTA BAIXA"
   ]
  },
  {
   "cell_type": "code",
   "execution_count": 408,
   "metadata": {},
   "outputs": [
    {
     "data": {
      "text/plain": [
       "<AxesSubplot:xlabel='pais', ylabel='pontuacao'>"
      ]
     },
     "execution_count": 408,
     "metadata": {},
     "output_type": "execute_result"
    },
    {
     "data": {
      "image/png": "[encoded data removed]",
      "text/plain": [
       "<Figure size 648x360 with 1 Axes>"
      ]
     },
     "metadata": {
      "needs_background": "light"
     },
     "output_type": "display_data"
    }
   ],
   "source": [
    "df_visao = df_principal[['pais', 'pontuacao']][df_principal['pais']=='Brazil']\n",
    "plt.subplots(figsize=(9,5))\n",
    "sns.boxplot(data=df_visao, y=df_visao['pontuacao'],x=df_visao['pais'])"
   ]
  },
  {
   "cell_type": "markdown",
   "metadata": {},
   "source": [
    "## Classificação das variáveis\n",
    "* preco -> Númerica Contínua\n",
    "* estado -> Categórica nominal\n",
    "* nome_vinho -> Categórica nominal\n",
    "* tipo_tuva -> Categórica nominal\n",
    "* vinicola -> Categórica nominal\n",
    "* pontuacao -> Categórica nominal\n",
    "* pais -> Categórica nominal"
   ]
  },
  {
   "cell_type": "code",
   "execution_count": 396,
   "metadata": {},
   "outputs": [
    {
     "data": {
      "text/plain": [
       "Index(['preco', 'estado', 'nome_vinho', 'tipo_uva', 'vinicola', 'pontuacao',\n",
       "       'pais'],\n",
       "      dtype='object')"
      ]
     },
     "execution_count": 396,
     "metadata": {},
     "output_type": "execute_result"
    }
   ],
   "source": [
    "df_principal.columns"
   ]
  },
  {
   "cell_type": "markdown",
   "metadata": {},
   "source": [
    "## Algumas Conclusões\n",
    "\n",
    "* O formato parquet ocupa menos disco, o acesso aos dados é muito mais rápido (I/O), muito útil para recuperar dados e uso nas visualizações, e fácil de implementar.\n",
    "\n",
    "* Maioria dos vinhos possuem boa pontuação\n",
    "* Austrália, França, Itália, Portugal e US -> possuem os vinhos mais bem votados\n",
    "* 397 vinhos possuem a pontuação miníma\n",
    "* Os vinhos mais caros são franceses\n",
    "* Existem vinhos baratos com boa pontuação\n",
    "* Maioria dos vinhos brasileiros com pontuação baixa\n",
    "\n"
   ]
  },
  {
   "cell_type": "markdown",
   "metadata": {},
   "source": [
    "## NOTA: Prentendia explorar mais os dados e utilizar o Streamlit para dataviz, infelizmente devido ao prazo e meu trabalho atual não consegui. Mas espero que gostem do resultado.\n",
    "\n",
    "## Obrigado !"
   ]
  }
 ],
 "metadata": {
  "kernelspec": {
   "display_name": "Python 3",
   "language": "python",
   "name": "python3"
  },
  "language_info": {
   "codemirror_mode": {
    "name": "ipython",
    "version": 3
   },
   "file_extension": ".py",
   "mimetype": "text/x-python",
   "name": "python",
   "nbconvert_exporter": "python",
   "pygments_lexer": "ipython3",
   "version": "3.7.3"
  }
 },
 "nbformat": 4,
 "nbformat_minor": 4
}
